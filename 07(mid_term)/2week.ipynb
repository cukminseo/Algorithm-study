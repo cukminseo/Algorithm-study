{
 "cells": [
  {
   "cell_type": "code",
   "outputs": [
    {
     "name": "stdout",
     "output_type": "stream",
     "text": [
      "[1, 2, 3, 4, 5, 6, 7, 8]\n"
     ]
    }
   ],
   "source": [
    "data = [ i for i in range(1,9)] ; data_len = len(data)\n",
    "print(data)"
   ],
   "metadata": {
    "collapsed": false,
    "ExecuteTime": {
     "end_time": "2024-04-18T00:38:14.629715900Z",
     "start_time": "2024-04-18T00:38:14.617224500Z"
    }
   },
   "id": "b86c4a5cb1784414",
   "execution_count": 7
  },
  {
   "cell_type": "code",
   "outputs": [
    {
     "name": "stdout",
     "output_type": "stream",
     "text": [
      "[8, 7, 6, 5, 4, 3, 2, 1]\n"
     ]
    }
   ],
   "source": [
    "for i in range(data_len//2):\n",
    "    data[i], data[data_len-i-1] = data[data_len-i-1], data[i]\n",
    "print(data)"
   ],
   "metadata": {
    "collapsed": false,
    "ExecuteTime": {
     "end_time": "2024-04-18T00:38:21.486895500Z",
     "start_time": "2024-04-18T00:38:18.074582500Z"
    }
   },
   "id": "756256ff68832459",
   "execution_count": 8
  },
  {
   "cell_type": "markdown",
   "source": [
    "`i=0`: `data_len - i - 1`는 `5 - 0 - 1 = 4`가 되어 `data[4]`를 참조합니다.\n",
    "`i=1`: `data_len - i - 1`는 `5 - 1 - 1 = 3`이 되어 `data[3]`를 참조합니다.\n",
    "`i=2`: `data_len - i - 1`는 `5 - 2 - 1 = 2`가 되어 `data[2]`를 참조합니다.\n",
    "`i=3`: `data_len - i - 1`는 `5 - 3 - 1 = 1`이 되어 `data[1]`를 참조합니다.\n",
    "`i=4`: `data_len - i - 1`는 `5 - 4 - 1 = 0`이 되어 `data[0]`를 참조합니다."
   ],
   "metadata": {
    "collapsed": false
   },
   "id": "83bfa1c06f05ccc0"
  },
  {
   "cell_type": "markdown",
   "source": [
    "data[::]\n",
    "이런 수정은 변경된 데이터 수정(원본 데이터는 그대로)\n",
    "data.reverse()\n",
    "원본데이터를 수정하며, 반환값은 None"
   ],
   "metadata": {
    "collapsed": false
   },
   "id": "5a14832000bfb38a"
  },
  {
   "cell_type": "code",
   "outputs": [
    {
     "data": {
      "text/plain": "[1, 2, 3, 4, 5, 6, 7, 8]"
     },
     "execution_count": 11,
     "metadata": {},
     "output_type": "execute_result"
    }
   ],
   "source": [
    "data[::-1]"
   ],
   "metadata": {
    "collapsed": false,
    "ExecuteTime": {
     "end_time": "2024-04-18T00:38:57.235582900Z",
     "start_time": "2024-04-18T00:38:57.231814100Z"
    }
   },
   "id": "e6677109b5a1a4c2",
   "execution_count": 11
  },
  {
   "cell_type": "code",
   "outputs": [],
   "source": [
    "start = 3; end = 5\n",
    "data_view = data[start:end+1]\n",
    "data_view.reverse()\n",
    "data[start:end+1] = data_view"
   ],
   "metadata": {
    "collapsed": false,
    "ExecuteTime": {
     "end_time": "2024-04-18T00:44:49.079824700Z",
     "start_time": "2024-04-18T00:44:49.077344Z"
    }
   },
   "id": "228464a80ebae75f",
   "execution_count": 14
  },
  {
   "cell_type": "code",
   "outputs": [
    {
     "name": "stdout",
     "output_type": "stream",
     "text": [
      "[8, 7, 6, 3, 4, 5, 2, 1]\n"
     ]
    }
   ],
   "source": [
    "print(data)"
   ],
   "metadata": {
    "collapsed": false,
    "ExecuteTime": {
     "end_time": "2024-04-18T00:45:01.694740700Z",
     "start_time": "2024-04-18T00:45:01.686698900Z"
    }
   },
   "id": "8b5e5276cab05ff",
   "execution_count": 15
  },
  {
   "cell_type": "markdown",
   "source": [
    "# BAJ10811 바구니 뒤집기"
   ],
   "metadata": {
    "collapsed": false
   },
   "id": "5a97ccfee6c764d2"
  },
  {
   "cell_type": "code",
   "outputs": [
    {
     "name": "stdout",
     "output_type": "stream",
     "text": [
      "[3, 4, 1, 2, 5]\n",
      "[3, 4, 1, 2, 5]\n",
      "[3, 4, 1, 2, 5]\n",
      "[3, 4, 1, 2, 5]\n",
      "[3, 4, 1, 2, 5]\n"
     ]
    }
   ],
   "source": [
    "import sys\n",
    "sys.stdin = open(\"BAJ10811.txt\", \"r\")\n",
    "data_len, frequency = map(int, input().split())\n",
    "data = [i for i in range(1,data_len+1)]\n",
    "for _ in range(frequency):\n",
    "    start, end = map(int, input().split())\n",
    "    data[start-1:end] = data[start-1:end][::-1]\n",
    "for i in data:\n",
    "    print(i)"
   ],
   "metadata": {
    "collapsed": false,
    "ExecuteTime": {
     "end_time": "2024-04-18T00:58:03.727859400Z",
     "start_time": "2024-04-18T00:57:57.426850800Z"
    }
   },
   "id": "5fbcf6aff7752a9b",
   "execution_count": 23
  },
  {
   "cell_type": "markdown",
   "source": [
    "## Atoi"
   ],
   "metadata": {
    "collapsed": false
   },
   "id": "c178bc307c4ad6f4"
  },
  {
   "cell_type": "code",
   "outputs": [
    {
     "name": "stdout",
     "output_type": "stream",
     "text": [
      "123\n"
     ]
    }
   ],
   "source": [
    "data_atoi = ['1', '2', '3']\n",
    "result_atoi = 0\n",
    "for i in data_atoi:\n",
    "    result_atoi = result_atoi*10+int(i)\n",
    "print(result_atoi)"
   ],
   "metadata": {
    "collapsed": false,
    "ExecuteTime": {
     "end_time": "2024-04-18T01:09:52.683768400Z",
     "start_time": "2024-04-18T01:09:51.628609100Z"
    }
   },
   "id": "7da8b0ad5b0d9b75",
   "execution_count": 27
  },
  {
   "cell_type": "markdown",
   "source": [
    "## itoA"
   ],
   "metadata": {
    "collapsed": false
   },
   "id": "a4e5789d67bd8c50"
  },
  {
   "cell_type": "code",
   "outputs": [
    {
     "name": "stdout",
     "output_type": "stream",
     "text": [
      "['1', '2', '3']\n"
     ]
    }
   ],
   "source": [
    "val = 123\n",
    "temp = []\n",
    "for i in str(val):\n",
    "    temp.append(i)\n",
    "    \n",
    "print(temp)"
   ],
   "metadata": {
    "collapsed": false,
    "ExecuteTime": {
     "end_time": "2024-04-18T01:13:35.760458300Z",
     "start_time": "2024-04-18T01:13:34.759733900Z"
    }
   },
   "id": "7fd9068fcdc6963e",
   "execution_count": 31
  },
  {
   "cell_type": "markdown",
   "source": [
    "## BAJ 11005 진법변환"
   ],
   "metadata": {
    "collapsed": false
   },
   "id": "35d2bba46de628b7"
  },
  {
   "cell_type": "code",
   "outputs": [
    {
     "name": "stdout",
     "output_type": "stream",
     "text": [
      "ZZZZZ\n"
     ]
    }
   ],
   "source": [
    "word_set = \"0123456789ABCDEFGHIJKLMNOPQRSTUVWXYZ\"\n",
    "# num, rule = map(int, input().split())\n",
    "num = 60466175; rule = 36\n",
    "result = \"\"\n",
    "while True:\n",
    "    each = num % rule\n",
    "    result+=word_set[each]\n",
    "    num //= rule\n",
    "    if not num:\n",
    "        break\n",
    "print(result[::-1])"
   ],
   "metadata": {
    "collapsed": false,
    "ExecuteTime": {
     "end_time": "2024-04-18T01:28:13.367485300Z",
     "start_time": "2024-04-18T01:28:13.350772900Z"
    }
   },
   "id": "2a0afc06671b49a0",
   "execution_count": 34
  },
  {
   "cell_type": "markdown",
   "source": [
    "## isSosu"
   ],
   "metadata": {
    "collapsed": false
   },
   "id": "f492841929bc4f7c"
  },
  {
   "cell_type": "code",
   "outputs": [
    {
     "name": "stdout",
     "output_type": "stream",
     "text": [
      "is_prime_all(104711) = True\n",
      "Execution time: 0.004685400\n",
      "\n",
      "is_prime_half(104711) = True\n",
      "Execution time: 0.002316800\n",
      "\n",
      "is_prime_sqrt(104711) = True\n",
      "Execution time: 0.000019600\n",
      "\n",
      "is_prime_sieve(104711) = True\n",
      "Execution time: 0.005508900\n"
     ]
    }
   ],
   "source": [
    "import time\n",
    "import math\n",
    "\n",
    "# 전체를 확인하는 함수\n",
    "def is_prime_all(n):\n",
    "    for i in range(2, n):\n",
    "        if n % i == 0:\n",
    "            return False\n",
    "    return True\n",
    "\n",
    "# 절반까지 확인하는 함수\n",
    "def is_prime_half(n):\n",
    "    for i in range(2, n//2 + 1):\n",
    "        if n % i == 0:\n",
    "            return False\n",
    "    return True\n",
    "\n",
    "# 제곱근까지 확인하는 함수\n",
    "def is_prime_sqrt(n):\n",
    "    for i in range(2, math.isqrt(n) + 1):\n",
    "        if n % i == 0:\n",
    "            return False\n",
    "    return True\n",
    "\n",
    "# 에라토스테네스의 체를 이용한 함수\n",
    "def is_prime_sieve(n):\n",
    "    sieve = [True] * (n+1)\n",
    "    x = 2\n",
    "    while x * x <= n:\n",
    "        if sieve[x]:\n",
    "            for i in range(x*x, n+1, x):\n",
    "                sieve[i] = False\n",
    "        x += 1\n",
    "    return sieve[n]\n",
    "\n",
    "# 각 함수의 실행 시간 측정\n",
    "number = 104711\n",
    "\n",
    "for func in [is_prime_all, is_prime_half, is_prime_sqrt, is_prime_sieve]:\n",
    "    start_time = time.perf_counter()\n",
    "    print(f\"{func.__name__}({number}) = {func(number)}\")\n",
    "    end_time = time.perf_counter()\n",
    "    print(f\"Execution time: {end_time - start_time:.9f}\\n\")\n"
   ],
   "metadata": {
    "collapsed": false,
    "ExecuteTime": {
     "end_time": "2024-04-18T07:25:12.602881400Z",
     "start_time": "2024-04-18T07:25:12.587622500Z"
    }
   },
   "id": "2f59aa14780fe0cd",
   "execution_count": 54
  },
  {
   "cell_type": "markdown",
   "source": [
    "## SWEA 12712"
   ],
   "metadata": {
    "collapsed": false
   },
   "id": "38aa5736dfd74001"
  },
  {
   "cell_type": "code",
   "outputs": [],
   "source": [
    "'''\n",
    "Created by: minseo\n",
    "Date: 4/16/24\n",
    "Desc : SWEA 12712(파리퇴치3)\n",
    "Excute time : ms(time.perf_counter())\n",
    "'''\n",
    "import sys\n",
    "\n",
    "sys.stdin = open('SWEA 12712. 파리퇴치3.txt', 'r')\n",
    "\n",
    "# 상 하 좌 우\n",
    "plus_dx = [0, 0, -1, 1]\n",
    "plus_dy = [1, -1, 0, 0]\n",
    "# 10 2 4 8\n",
    "x_dx = [-1, 1, 1, -1]\n",
    "x_dy = [1, 1, -1, -1]\n",
    "\n",
    "# for문으로 한번에 진행하기 위해 합치기\n",
    "plus_x_dx = []\n",
    "plus_x_dy = []\n",
    "plus_x_dx.append(plus_dx)\n",
    "plus_x_dx.append(x_dx)\n",
    "plus_x_dy.append(plus_dy)\n",
    "plus_x_dy.append(x_dy)\n",
    "\n",
    "tc = int(input())\n",
    "\n",
    "for case in range(1, tc+1):\n",
    "\n",
    "    matrix_size, spray_size = map(int, input().split())\n",
    "\n",
    "    # 상태저장 그래프\n",
    "    graph = [[0 for _ in range(matrix_size)] for __ in range(matrix_size)]\n",
    "    # 결과저장 그래프\n",
    "    result = [[-1 for _ in range(matrix_size)] for __ in range(matrix_size)]\n",
    "\n",
    "    for i in range(matrix_size):\n",
    "        graph[i] = list(map(int, input().split()))\n",
    "\n",
    "    # 완전 탐색\n",
    "    for i in range(matrix_size):\n",
    "        for j in range(matrix_size):\n",
    "            # 두가지 스프레이 방식\n",
    "            for method in range(2):\n",
    "                sum = 0\n",
    "                sum += graph[j][i]\n",
    "                # 스프레이 분사된 부분의 합\n",
    "                for spray_depth in range(1, spray_size):\n",
    "                    # 4가지 방향 탐색\n",
    "                    for arrow in range(4):\n",
    "                        new_y = j+plus_x_dy[method][arrow] * spray_depth\n",
    "                        new_x = i+plus_x_dx[method][arrow] * spray_depth\n",
    "                        # 범위를 넘는지 검사\n",
    "                        if 0 <= new_y < matrix_size and 0 <= new_x < matrix_size:\n",
    "                            sum += graph[new_y][new_x]\n",
    "                # 스프레이 합 결과 확인 후 반영\n",
    "                result[j][i] = max(result[j][i], sum)\n",
    "\n",
    "    max_value = max(map(max, result))\n",
    "    print(f\"#{case} {max_value}\")"
   ],
   "metadata": {
    "collapsed": false
   },
   "id": "ae92be58b813c88b"
  },
  {
   "cell_type": "markdown",
   "source": [],
   "metadata": {
    "collapsed": false
   },
   "id": "9500d0366fe85e8b"
  },
  {
   "cell_type": "markdown",
   "source": [],
   "metadata": {
    "collapsed": false
   },
   "id": "b3c5cedc3fd9fcf4"
  },
  {
   "cell_type": "markdown",
   "source": [],
   "metadata": {
    "collapsed": false
   },
   "id": "1a31e62d343ccc76"
  },
  {
   "cell_type": "markdown",
   "source": [],
   "metadata": {
    "collapsed": false
   },
   "id": "1abc59d360d9403c"
  },
  {
   "cell_type": "markdown",
   "source": [],
   "metadata": {
    "collapsed": false
   },
   "id": "23432a409ed13eb4"
  },
  {
   "cell_type": "markdown",
   "source": [
    "    "
   ],
   "metadata": {
    "collapsed": false
   },
   "id": "d7655c772c6023c1"
  }
 ],
 "metadata": {
  "kernelspec": {
   "display_name": "Python 3",
   "language": "python",
   "name": "python3"
  },
  "language_info": {
   "codemirror_mode": {
    "name": "ipython",
    "version": 2
   },
   "file_extension": ".py",
   "mimetype": "text/x-python",
   "name": "python",
   "nbconvert_exporter": "python",
   "pygments_lexer": "ipython2",
   "version": "2.7.6"
  }
 },
 "nbformat": 4,
 "nbformat_minor": 5
}
